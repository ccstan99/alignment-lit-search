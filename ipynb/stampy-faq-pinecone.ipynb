{
  "cells": [
    {
      "cell_type": "markdown",
      "metadata": {
        "id": "cKu-l3vljNRk"
      },
      "source": [
        "# Stampy Extractive FAQ using Pinecone\n",
        "\n",
        "We will take a look at how to use Pinecone to perform a semantic search, while applying a traditional keyword search.\n",
        "\n",
        "https://github.com/pinecone-io/examples/blob/master/metadata_filtered_search/metadata_filtered_search.ipynb"
      ]
    },
    {
      "cell_type": "markdown",
      "metadata": {
        "id": "O5sWQL3MjNRo"
      },
      "source": [
        "We will use the `sentence-transformers` library to build our sentence embeddings. It can be installed using `pip` like so:"
      ]
    },
    {
      "cell_type": "code",
      "execution_count": 57,
      "metadata": {
        "colab": {
          "base_uri": "https://localhost:8080/"
        },
        "id": "BJdDkmacjNRo",
        "outputId": "6a8ea1e5-4ab3-4375-8947-872c05a1d3a0"
      },
      "outputs": [
        {
          "output_type": "stream",
          "name": "stdout",
          "text": [
            "Looking in indexes: https://pypi.org/simple, https://us-python.pkg.dev/colab-wheels/public/simple/\n",
            "Requirement already satisfied: sentence-transformers in /usr/local/lib/python3.8/dist-packages (2.2.2)\n",
            "Requirement already satisfied: numpy in /usr/local/lib/python3.8/dist-packages (from sentence-transformers) (1.21.6)\n",
            "Requirement already satisfied: transformers<5.0.0,>=4.6.0 in /usr/local/lib/python3.8/dist-packages (from sentence-transformers) (4.25.1)\n",
            "Requirement already satisfied: sentencepiece in /usr/local/lib/python3.8/dist-packages (from sentence-transformers) (0.1.97)\n",
            "Requirement already satisfied: tqdm in /usr/local/lib/python3.8/dist-packages (from sentence-transformers) (4.64.1)\n",
            "Requirement already satisfied: huggingface-hub>=0.4.0 in /usr/local/lib/python3.8/dist-packages (from sentence-transformers) (0.11.1)\n",
            "Requirement already satisfied: scikit-learn in /usr/local/lib/python3.8/dist-packages (from sentence-transformers) (1.0.2)\n",
            "Requirement already satisfied: scipy in /usr/local/lib/python3.8/dist-packages (from sentence-transformers) (1.7.3)\n",
            "Requirement already satisfied: torchvision in /usr/local/lib/python3.8/dist-packages (from sentence-transformers) (0.14.0+cu116)\n",
            "Requirement already satisfied: nltk in /usr/local/lib/python3.8/dist-packages (from sentence-transformers) (3.7)\n",
            "Requirement already satisfied: torch>=1.6.0 in /usr/local/lib/python3.8/dist-packages (from sentence-transformers) (1.13.0+cu116)\n",
            "Requirement already satisfied: requests in /usr/local/lib/python3.8/dist-packages (from huggingface-hub>=0.4.0->sentence-transformers) (2.23.0)\n",
            "Requirement already satisfied: filelock in /usr/local/lib/python3.8/dist-packages (from huggingface-hub>=0.4.0->sentence-transformers) (3.8.0)\n",
            "Requirement already satisfied: pyyaml>=5.1 in /usr/local/lib/python3.8/dist-packages (from huggingface-hub>=0.4.0->sentence-transformers) (6.0)\n",
            "Requirement already satisfied: packaging>=20.9 in /usr/local/lib/python3.8/dist-packages (from huggingface-hub>=0.4.0->sentence-transformers) (21.3)\n",
            "Requirement already satisfied: typing-extensions>=3.7.4.3 in /usr/local/lib/python3.8/dist-packages (from huggingface-hub>=0.4.0->sentence-transformers) (4.4.0)\n",
            "Requirement already satisfied: pyparsing!=3.0.5,>=2.0.2 in /usr/local/lib/python3.8/dist-packages (from packaging>=20.9->huggingface-hub>=0.4.0->sentence-transformers) (3.0.9)\n",
            "Requirement already satisfied: tokenizers!=0.11.3,<0.14,>=0.11.1 in /usr/local/lib/python3.8/dist-packages (from transformers<5.0.0,>=4.6.0->sentence-transformers) (0.13.2)\n",
            "Requirement already satisfied: regex!=2019.12.17 in /usr/local/lib/python3.8/dist-packages (from transformers<5.0.0,>=4.6.0->sentence-transformers) (2022.6.2)\n",
            "Requirement already satisfied: joblib in /usr/local/lib/python3.8/dist-packages (from nltk->sentence-transformers) (1.2.0)\n",
            "Requirement already satisfied: click in /usr/local/lib/python3.8/dist-packages (from nltk->sentence-transformers) (7.1.2)\n",
            "Requirement already satisfied: urllib3!=1.25.0,!=1.25.1,<1.26,>=1.21.1 in /usr/local/lib/python3.8/dist-packages (from requests->huggingface-hub>=0.4.0->sentence-transformers) (1.24.3)\n",
            "Requirement already satisfied: idna<3,>=2.5 in /usr/local/lib/python3.8/dist-packages (from requests->huggingface-hub>=0.4.0->sentence-transformers) (2.10)\n",
            "Requirement already satisfied: certifi>=2017.4.17 in /usr/local/lib/python3.8/dist-packages (from requests->huggingface-hub>=0.4.0->sentence-transformers) (2022.9.24)\n",
            "Requirement already satisfied: chardet<4,>=3.0.2 in /usr/local/lib/python3.8/dist-packages (from requests->huggingface-hub>=0.4.0->sentence-transformers) (3.0.4)\n",
            "Requirement already satisfied: threadpoolctl>=2.0.0 in /usr/local/lib/python3.8/dist-packages (from scikit-learn->sentence-transformers) (3.1.0)\n",
            "Requirement already satisfied: pillow!=8.3.*,>=5.3.0 in /usr/local/lib/python3.8/dist-packages (from torchvision->sentence-transformers) (7.1.2)\n",
            "Looking in indexes: https://pypi.org/simple, https://us-python.pkg.dev/colab-wheels/public/simple/\n",
            "Requirement already satisfied: pinecone-client in /usr/local/lib/python3.8/dist-packages (2.0.13)\n",
            "Requirement already satisfied: typing-extensions>=3.7.4 in /usr/local/lib/python3.8/dist-packages (from pinecone-client) (4.4.0)\n",
            "Requirement already satisfied: urllib3>=1.21.1 in /usr/local/lib/python3.8/dist-packages (from pinecone-client) (1.24.3)\n",
            "Requirement already satisfied: loguru>=0.5.0 in /usr/local/lib/python3.8/dist-packages (from pinecone-client) (0.6.0)\n",
            "Requirement already satisfied: pyyaml>=5.4 in /usr/local/lib/python3.8/dist-packages (from pinecone-client) (6.0)\n",
            "Requirement already satisfied: requests>=2.19.0 in /usr/local/lib/python3.8/dist-packages (from pinecone-client) (2.23.0)\n",
            "Requirement already satisfied: dnspython>=2.0.0 in /usr/local/lib/python3.8/dist-packages (from pinecone-client) (2.2.1)\n",
            "Requirement already satisfied: python-dateutil>=2.5.3 in /usr/local/lib/python3.8/dist-packages (from pinecone-client) (2.8.2)\n",
            "Requirement already satisfied: six>=1.5 in /usr/local/lib/python3.8/dist-packages (from python-dateutil>=2.5.3->pinecone-client) (1.15.0)\n",
            "Requirement already satisfied: idna<3,>=2.5 in /usr/local/lib/python3.8/dist-packages (from requests>=2.19.0->pinecone-client) (2.10)\n",
            "Requirement already satisfied: chardet<4,>=3.0.2 in /usr/local/lib/python3.8/dist-packages (from requests>=2.19.0->pinecone-client) (3.0.4)\n",
            "Requirement already satisfied: certifi>=2017.4.17 in /usr/local/lib/python3.8/dist-packages (from requests>=2.19.0->pinecone-client) (2022.9.24)\n"
          ]
        }
      ],
      "source": [
        "!pip install sentence-transformers\n",
        "!pip install pinecone-client"
      ]
    },
    {
      "cell_type": "markdown",
      "metadata": {
        "id": "r5bo0U-OjNRo"
      },
      "source": [
        "### Download Data\n",
        "In this example we are using the sentence_transformer library  to encode the sentence into vectors. More info can be found [here](https://www.sbert.net/docs/pretrained_models.html#sentence-embedding-models)."
      ]
    },
    {
      "cell_type": "code",
      "source": [
        "import requests, json\n",
        "import pandas as pd\n",
        "\n",
        "wikiURL = \"https://stampy.ai/w/api.php?action=ask&query=[[Category:Answers]][[Canonical::true]][[OutOfScope::false]]%7Climit%3D1000%7Cformat%3Dplainlist%7C%3FAnswer%7C%3FAnswerTo&format=json\"\n",
        "wikiJSON = requests.get(wikiURL).json()[\"query\"][\"results\"]\n",
        "\n",
        "faq_list = []\n",
        "for entry in wikiJSON.values():\n",
        "  faq_list.append({\n",
        "    \"question\": entry[\"printouts\"][\"AnswerTo\"][0][\"fulltext\"],\n",
        "    \"answer\": entry[\"printouts\"][\"Answer\"][0],\n",
        "    \"url\": entry[\"printouts\"][\"AnswerTo\"][0][\"fullurl\"],  \n",
        "  })\n",
        "\n",
        "data = pd.DataFrame(faq_list)\n",
        "data.head()"
      ],
      "metadata": {
        "colab": {
          "base_uri": "https://localhost:8080/",
          "height": 206
        },
        "id": "od2KuLWurBni",
        "outputId": "58ab9add-5c60-4c29-b9ba-ed79cd8956c1"
      },
      "execution_count": 59,
      "outputs": [
        {
          "output_type": "execute_result",
          "data": {
            "text/plain": [
              "                                            question  \\\n",
              "0  A lot of concern appears to focus on human-lev...   \n",
              "1  Any AI will be a computer program. Why wouldn'...   \n",
              "2        Are Google, OpenAI, etc. aware of the risk?   \n",
              "3  Are there types of advanced AI that would be s...   \n",
              "4  Aren't robots the real problem? How can AI cau...   \n",
              "\n",
              "                                              answer  \\\n",
              "0  AI is already superhuman at some tasks, for ex...   \n",
              "1  While it is true that a computer program alway...   \n",
              "2  The major AI companies are thinking about this...   \n",
              "3  We don’t yet know which AI architectures are s...   \n",
              "4  What’s new and potentially risky is not the ab...   \n",
              "\n",
              "                                                 url  \n",
              "0  https://stampy.ai/wiki/A_lot_of_concern_appear...  \n",
              "1  https://stampy.ai/wiki/Any_AI_will_be_a_comput...  \n",
              "2  https://stampy.ai/wiki/Are_Google,_OpenAI,_etc...  \n",
              "3  https://stampy.ai/wiki/Are_there_types_of_adva...  \n",
              "4  https://stampy.ai/wiki/Aren%27t_robots_the_rea...  "
            ],
            "text/html": [
              "\n",
              "  <div id=\"df-27edab22-4e2a-45c5-9dda-f5808473ace5\">\n",
              "    <div class=\"colab-df-container\">\n",
              "      <div>\n",
              "<style scoped>\n",
              "    .dataframe tbody tr th:only-of-type {\n",
              "        vertical-align: middle;\n",
              "    }\n",
              "\n",
              "    .dataframe tbody tr th {\n",
              "        vertical-align: top;\n",
              "    }\n",
              "\n",
              "    .dataframe thead th {\n",
              "        text-align: right;\n",
              "    }\n",
              "</style>\n",
              "<table border=\"1\" class=\"dataframe\">\n",
              "  <thead>\n",
              "    <tr style=\"text-align: right;\">\n",
              "      <th></th>\n",
              "      <th>question</th>\n",
              "      <th>answer</th>\n",
              "      <th>url</th>\n",
              "    </tr>\n",
              "  </thead>\n",
              "  <tbody>\n",
              "    <tr>\n",
              "      <th>0</th>\n",
              "      <td>A lot of concern appears to focus on human-lev...</td>\n",
              "      <td>AI is already superhuman at some tasks, for ex...</td>\n",
              "      <td>https://stampy.ai/wiki/A_lot_of_concern_appear...</td>\n",
              "    </tr>\n",
              "    <tr>\n",
              "      <th>1</th>\n",
              "      <td>Any AI will be a computer program. Why wouldn'...</td>\n",
              "      <td>While it is true that a computer program alway...</td>\n",
              "      <td>https://stampy.ai/wiki/Any_AI_will_be_a_comput...</td>\n",
              "    </tr>\n",
              "    <tr>\n",
              "      <th>2</th>\n",
              "      <td>Are Google, OpenAI, etc. aware of the risk?</td>\n",
              "      <td>The major AI companies are thinking about this...</td>\n",
              "      <td>https://stampy.ai/wiki/Are_Google,_OpenAI,_etc...</td>\n",
              "    </tr>\n",
              "    <tr>\n",
              "      <th>3</th>\n",
              "      <td>Are there types of advanced AI that would be s...</td>\n",
              "      <td>We don’t yet know which AI architectures are s...</td>\n",
              "      <td>https://stampy.ai/wiki/Are_there_types_of_adva...</td>\n",
              "    </tr>\n",
              "    <tr>\n",
              "      <th>4</th>\n",
              "      <td>Aren't robots the real problem? How can AI cau...</td>\n",
              "      <td>What’s new and potentially risky is not the ab...</td>\n",
              "      <td>https://stampy.ai/wiki/Aren%27t_robots_the_rea...</td>\n",
              "    </tr>\n",
              "  </tbody>\n",
              "</table>\n",
              "</div>\n",
              "      <button class=\"colab-df-convert\" onclick=\"convertToInteractive('df-27edab22-4e2a-45c5-9dda-f5808473ace5')\"\n",
              "              title=\"Convert this dataframe to an interactive table.\"\n",
              "              style=\"display:none;\">\n",
              "        \n",
              "  <svg xmlns=\"http://www.w3.org/2000/svg\" height=\"24px\"viewBox=\"0 0 24 24\"\n",
              "       width=\"24px\">\n",
              "    <path d=\"M0 0h24v24H0V0z\" fill=\"none\"/>\n",
              "    <path d=\"M18.56 5.44l.94 2.06.94-2.06 2.06-.94-2.06-.94-.94-2.06-.94 2.06-2.06.94zm-11 1L8.5 8.5l.94-2.06 2.06-.94-2.06-.94L8.5 2.5l-.94 2.06-2.06.94zm10 10l.94 2.06.94-2.06 2.06-.94-2.06-.94-.94-2.06-.94 2.06-2.06.94z\"/><path d=\"M17.41 7.96l-1.37-1.37c-.4-.4-.92-.59-1.43-.59-.52 0-1.04.2-1.43.59L10.3 9.45l-7.72 7.72c-.78.78-.78 2.05 0 2.83L4 21.41c.39.39.9.59 1.41.59.51 0 1.02-.2 1.41-.59l7.78-7.78 2.81-2.81c.8-.78.8-2.07 0-2.86zM5.41 20L4 18.59l7.72-7.72 1.47 1.35L5.41 20z\"/>\n",
              "  </svg>\n",
              "      </button>\n",
              "      \n",
              "  <style>\n",
              "    .colab-df-container {\n",
              "      display:flex;\n",
              "      flex-wrap:wrap;\n",
              "      gap: 12px;\n",
              "    }\n",
              "\n",
              "    .colab-df-convert {\n",
              "      background-color: #E8F0FE;\n",
              "      border: none;\n",
              "      border-radius: 50%;\n",
              "      cursor: pointer;\n",
              "      display: none;\n",
              "      fill: #1967D2;\n",
              "      height: 32px;\n",
              "      padding: 0 0 0 0;\n",
              "      width: 32px;\n",
              "    }\n",
              "\n",
              "    .colab-df-convert:hover {\n",
              "      background-color: #E2EBFA;\n",
              "      box-shadow: 0px 1px 2px rgba(60, 64, 67, 0.3), 0px 1px 3px 1px rgba(60, 64, 67, 0.15);\n",
              "      fill: #174EA6;\n",
              "    }\n",
              "\n",
              "    [theme=dark] .colab-df-convert {\n",
              "      background-color: #3B4455;\n",
              "      fill: #D2E3FC;\n",
              "    }\n",
              "\n",
              "    [theme=dark] .colab-df-convert:hover {\n",
              "      background-color: #434B5C;\n",
              "      box-shadow: 0px 1px 3px 1px rgba(0, 0, 0, 0.15);\n",
              "      filter: drop-shadow(0px 1px 2px rgba(0, 0, 0, 0.3));\n",
              "      fill: #FFFFFF;\n",
              "    }\n",
              "  </style>\n",
              "\n",
              "      <script>\n",
              "        const buttonEl =\n",
              "          document.querySelector('#df-27edab22-4e2a-45c5-9dda-f5808473ace5 button.colab-df-convert');\n",
              "        buttonEl.style.display =\n",
              "          google.colab.kernel.accessAllowed ? 'block' : 'none';\n",
              "\n",
              "        async function convertToInteractive(key) {\n",
              "          const element = document.querySelector('#df-27edab22-4e2a-45c5-9dda-f5808473ace5');\n",
              "          const dataTable =\n",
              "            await google.colab.kernel.invokeFunction('convertToInteractive',\n",
              "                                                     [key], {});\n",
              "          if (!dataTable) return;\n",
              "\n",
              "          const docLinkHtml = 'Like what you see? Visit the ' +\n",
              "            '<a target=\"_blank\" href=https://colab.research.google.com/notebooks/data_table.ipynb>data table notebook</a>'\n",
              "            + ' to learn more about interactive tables.';\n",
              "          element.innerHTML = '';\n",
              "          dataTable['output_type'] = 'display_data';\n",
              "          await google.colab.output.renderOutput(dataTable, element);\n",
              "          const docLink = document.createElement('div');\n",
              "          docLink.innerHTML = docLinkHtml;\n",
              "          element.appendChild(docLink);\n",
              "        }\n",
              "      </script>\n",
              "    </div>\n",
              "  </div>\n",
              "  "
            ]
          },
          "metadata": {},
          "execution_count": 59
        }
      ]
    },
    {
      "cell_type": "code",
      "source": [
        "from google.colab import drive\n",
        "\n",
        "drive.mount('/content/drive/', force_remount=True)\n",
        "PATH = \"/content/drive/My Drive/Colab Notebooks/data/\"\n",
        "\n",
        "file_prefix = \"stampyQA\"\n",
        "data.to_json(PATH + file_prefix + \".json\", orient=\"records\")"
      ],
      "metadata": {
        "colab": {
          "base_uri": "https://localhost:8080/"
        },
        "id": "LHilkkrPoFXy",
        "outputId": "e6b79ce1-5cf6-41ec-a42f-7a33a28bb4a1"
      },
      "execution_count": 61,
      "outputs": [
        {
          "output_type": "stream",
          "name": "stdout",
          "text": [
            "Mounted at /content/drive/\n"
          ]
        }
      ]
    },
    {
      "cell_type": "code",
      "execution_count": 60,
      "metadata": {
        "id": "wG6dPl0kjNRo"
      },
      "outputs": [],
      "source": [
        "# Get questions and answers.\n",
        "title_data = data['question'].tolist()\n",
        "text_data = data['answer'].tolist()\n",
        "title_text_data = data['question'].map(str) + \"[SEP]\" + data['answer'].map(str)\n",
        "data['text_to_encode'] = title_text_data\n",
        "ids = data.index.tolist()"
      ]
    },
    {
      "cell_type": "code",
      "source": [
        "from sentence_transformers import SentenceTransformer\n",
        "from sklearn.preprocessing import normalize\n",
        "\n",
        "model = SentenceTransformer('allenai-specter')"
      ],
      "metadata": {
        "id": "ARu6a9tywGRB"
      },
      "execution_count": 62,
      "outputs": []
    },
    {
      "cell_type": "markdown",
      "metadata": {
        "id": "YnrLXeTNjNRp"
      },
      "source": [
        "### Components of a Pinecone vector embedding\n",
        "\n",
        "There are three components to every Pinecone vector embedding:\n",
        " - a vector ID\n",
        " - a sequence of floats of a user-defined, fixed dimension\n",
        " - vector metadata (a key-value store)\n",
        "\n",
        "### Prepare vector embeddings for upload\n",
        "\n",
        "We will encode the articles for upload to Pinecone. This may take a while depending on your machine. We will use the index of the pandas dataframe for the vector ID, the pretrained model to generate the sequence of 768 floats, and the title, authors, url and abstract for details in the metadata.\n",
        "\n",
        "#### Prepare metadata\n",
        "\n",
        "The function below creates metadata from a single row of the dataframe. This is going to be important further down this notebook for additional filter requirements we may want to employ in our queries."
      ]
    },
    {
      "cell_type": "code",
      "source": [
        "all_embeddings = model.encode(title_text_data, show_progress_bar=True)\n",
        "# all_embeddings = normalize(all_embeddings)\n",
        "all_embeddings.shape"
      ],
      "metadata": {
        "colab": {
          "base_uri": "https://localhost:8080/",
          "height": 67,
          "referenced_widgets": [
            "9e87c88bdd9242dc9625c423b4f32049",
            "623a88efe21d40a3a786ff1a8d4fcd77",
            "e13ba33f70cc4ff29b15d5bb17156889",
            "c7e71fb1db5149148a69428864f1618f",
            "3c575317c28447a088eebeabcc5209b8",
            "9de7dd6b989f42af9034b4a42664d1a0",
            "058c02d097a240839cb7b5b5d6ac200f",
            "40b973293d3a41169be15c199e259ffa",
            "456f058f2a3f46aa9d3d99c8d08a0174",
            "7825af24aa024ff18db72a8a14655d43",
            "1ad3793e25f442cf928b40313ad29fc8"
          ]
        },
        "id": "WU11I-hHxAfb",
        "outputId": "cba794d5-e2de-4143-904b-8698c16338ad"
      },
      "execution_count": 63,
      "outputs": [
        {
          "output_type": "display_data",
          "data": {
            "text/plain": [
              "Batches:   0%|          | 0/7 [00:00<?, ?it/s]"
            ],
            "application/vnd.jupyter.widget-view+json": {
              "version_major": 2,
              "version_minor": 0,
              "model_id": "9e87c88bdd9242dc9625c423b4f32049"
            }
          },
          "metadata": {}
        },
        {
          "output_type": "execute_result",
          "data": {
            "text/plain": [
              "(201, 768)"
            ]
          },
          "metadata": {},
          "execution_count": 63
        }
      ]
    },
    {
      "cell_type": "code",
      "source": [
        "def get_vector_metadata_from_dataframe_row(df_row):\n",
        "    \"\"\"Return vector metadata.\"\"\"\n",
        "    vector_metadata = {\n",
        "        'title': df_row['question'],\n",
        "        'text': df_row['answer'],\n",
        "        'url': df_row['url']\n",
        "    }\n",
        "    return vector_metadata\n",
        "\n",
        "metadata = data.apply(get_vector_metadata_from_dataframe_row,axis=1).tolist()"
      ],
      "metadata": {
        "id": "Olul9Ebcu7wv"
      },
      "execution_count": 64,
      "outputs": []
    },
    {
      "cell_type": "code",
      "source": [
        "all_data = list(zip(ids, all_embeddings.tolist(), metadata))\n",
        "json.dump(all_data, open(PATH + file_prefix + \"_embeddings.json\", \"w\"))"
      ],
      "metadata": {
        "id": "bHQs_Ld3wA03"
      },
      "execution_count": 65,
      "outputs": []
    },
    {
      "cell_type": "markdown",
      "metadata": {
        "id": "ZXHB-fe_jNRq"
      },
      "source": [
        "We have everything we need, the dense vector representations of each sentence. So let's establish a connection to Pinecone ready for upserting our data."
      ]
    },
    {
      "cell_type": "markdown",
      "metadata": {
        "id": "__RKBGomjNRq"
      },
      "source": [
        "Next we need to connect to a Pinecone instance, you can get a [free API key here](https://app.pinecone.io)."
      ]
    },
    {
      "cell_type": "markdown",
      "metadata": {
        "id": "2PnQb04BjNRr"
      },
      "source": [
        "There are none, so let's create a new index with `create_index` and connect with `Index`."
      ]
    },
    {
      "cell_type": "code",
      "execution_count": 69,
      "metadata": {
        "id": "FWcuwbznjNRs"
      },
      "outputs": [],
      "source": [
        "import pinecone\n",
        "pinecone.init(api_key='040b0588-32b2-4195-b234-63e068540253', environment='us-west1-gcp')\n",
        "index_name = 'alignment-lit'\n",
        "namespace='faq'\n",
        "\n",
        "# if doesn't exist, create new index else delete old contents\n",
        "if index_name not in pinecone.list_indexes():\n",
        "  pinecone.create_index(name=index_name, dimension=all_embeddings.shape[1])\n",
        "  index = pinecone.Index(index_name)\n",
        "else:\n",
        "  index = pinecone.Index(index_name)\n",
        "  index.delete(deleteAll=True, namespace=namespace)"
      ]
    },
    {
      "cell_type": "code",
      "source": [
        "def chunks(lst, n):\n",
        "    \"\"\"A generator function that iterates through lst in batches.\n",
        "    Each batch is of size n except possibly the last batch, which may be of \n",
        "    size less than n.\n",
        "    \"\"\"\n",
        "    for i in range(0, len(lst), n):\n",
        "        yield lst[i:i + n]"
      ],
      "metadata": {
        "id": "UcWexdDO9o0j"
      },
      "execution_count": 67,
      "outputs": []
    },
    {
      "cell_type": "code",
      "source": [
        "chunk_size = 100\n",
        "for chunk in chunks(all_data, chunk_size):\n",
        "  upserts = []\n",
        "  for (id, vectors, meta) in chunk:\n",
        "    upserts.append((str(id), vectors, meta))\n",
        "  index.upsert(upserts, namespace=namespace)"
      ],
      "metadata": {
        "id": "DrnBgQ828B4T"
      },
      "execution_count": 75,
      "outputs": []
    },
    {
      "cell_type": "markdown",
      "metadata": {
        "id": "X3EEoHhsjNRt"
      },
      "source": [
        "## Querying & Answer Extraction\n",
        "\n",
        "We now have the data in our index, let's first perform a semantic search using a query sentence, we will return the most *semantically* similar sentences.\n",
        "\n",
        "We define the query, and encode as we did for `all_sentences` before. When querying with `index.query` we can pass the query vector as our first argument, and *later* when filtering for specific keywords we will add the `filter` parameter."
      ]
    },
    {
      "cell_type": "code",
      "source": [
        "from transformers import pipeline\n",
        "\n",
        "model_name = \"deepset/electra-base-squad2\"\n",
        "# load the reader model into a question-answering pipeline\n",
        "reader = pipeline(model=model_name, task=\"question-answering\")"
      ],
      "metadata": {
        "id": "iPGDYB1sId0Z"
      },
      "execution_count": 97,
      "outputs": []
    },
    {
      "cell_type": "code",
      "execution_count": 102,
      "metadata": {
        "colab": {
          "base_uri": "https://localhost:8080/"
        },
        "id": "_zv3i5ROjNRu",
        "outputId": "075bd042-071d-4d4a-d00d-56fbdab22576"
      },
      "outputs": [
        {
          "output_type": "stream",
          "name": "stdout",
          "text": [
            "0.85 90 What are the differences between “AI safety”, “AGI safety”, “AI alignment” and “AI existential safety”?\n",
            "0.84 96 What can I do to contribute to AI safety?\n",
            "0.83 13 Can you give an AI a goal which involves “minimally impacting the world”?\n",
            "0.82 54 I'm interested in working on AI safety. What should I do?\n",
            "0.82 178 Why is safety important for smarter-than-human AI?\n"
          ]
        }
      ],
      "source": [
        "query = \"What is AI Safety\"\n",
        "xq = model.encode(query).tolist()\n",
        "result = index.query(xq, namespace=namespace, top_k=5, includeMetadata=True)\n",
        "for item in result[\"matches\"]:\n",
        "  print('{0:.2f}'.format(item[\"score\"]), item[\"id\"], item[\"metadata\"][\"title\"])"
      ]
    },
    {
      "cell_type": "code",
      "source": [
        "context = result[\"matches\"][0][\"metadata\"][\"text\"]\n",
        "answer = reader(question=query, context=context)\n",
        "print(answer)\n",
        "print(context)"
      ],
      "metadata": {
        "colab": {
          "base_uri": "https://localhost:8080/"
        },
        "id": "xB153i2QJFlQ",
        "outputId": "2e2cd355-8388-4f7c-b550-179611bc583a"
      },
      "execution_count": 103,
      "outputs": [
        {
          "output_type": "stream",
          "name": "stdout",
          "text": [
            "{'score': 0.008653157390654087, 'start': 561, 'end': 625, 'answer': 'AI existential safety is a slightly broader term than AGI safety'}\n",
            "AI alignment is the research field focused on trying to give us the tools to align AIs to specific goals, such as human values. This is crucial when they are highly competent, as a misaligned superintelligence could be the end of human civilization.\n",
            "\n",
            "AGI safety is the field trying to make sure that when we build Artificial General Intelligences they are safe and do not harm humanity. It overlaps with AI alignment strongly, in that misalignment of AI would be the main cause of unsafe behavior in AGIs, but also includes misuse and other governance issues.\n",
            "\n",
            "AI existential safety is a slightly broader term than AGI safety, including AI risks which pose an existential threat without necessarily being as general as humans.\n",
            "\n",
            "AI safety was originally used by the existential risk reduction movement for the work done to reduce the risks of misaligned superintelligence, but has also been adopted by researchers and others studying nearer term and less catastrophic risks from AI in recent years.\n"
          ]
        }
      ]
    },
    {
      "cell_type": "markdown",
      "source": [
        "{'score': 0.04587697610259056, 'start': 265, 'end': 346, 'answer': 'the field trying to make sure that when we build Artificial General Intelligences'}\n",
        "AI alignment is the research field focused on trying to give us the tools to align AIs to specific goals, such as human values. This is crucial when they are highly competent, as a misaligned superintelligence could be the end of human civilization.\n",
        "\n",
        "AGI safety is the field trying to make sure that when we build Artificial General Intelligences they are safe and do not harm humanity. It overlaps with AI alignment strongly, in that misalignment of AI would be the main cause of unsafe behavior in AGIs, but also includes misuse and other governance issues.\n",
        "\n",
        "AI existential safety is a slightly broader term than AGI safety, including AI risks which pose an existential threat without necessarily being as general as humans.\n",
        "\n",
        "AI safety was originally used by the existential risk reduction movement for the work done to reduce the risks of misaligned superintelligence, but has also been adopted by researchers and others studying nearer term and less catastrophic risks from AI in recent years.\n"
      ],
      "metadata": {
        "id": "LcNLsTt4PESx"
      }
    },
    {
      "cell_type": "code",
      "source": [
        "# from pprint import pprint\n",
        "\n",
        "# # extracts answer from the context passage\n",
        "# def extract_answer(question, context):\n",
        "#     results = []\n",
        "#     for c in context:\n",
        "#         # feed the reader the question and contexts to extract answers\n",
        "#         answer = reader(question=question, context=c)\n",
        "#         # add the context to answer dict for printing both together\n",
        "#         answer[\"context\"] = c\n",
        "#         results.append(answer)\n",
        "#     # sort the result based on the score from reader model\n",
        "#     sorted_result = pprint(sorted(results, key=lambda x: x[\"score\"], reverse=True))\n",
        "#     return sorted_result"
      ],
      "metadata": {
        "id": "2ojbODkBLknd"
      },
      "execution_count": null,
      "outputs": []
    },
    {
      "cell_type": "code",
      "source": [
        "# pinecone.delete_index(name='alignment-lit')"
      ],
      "metadata": {
        "id": "k_-V5NVJiS7Y"
      },
      "execution_count": null,
      "outputs": []
    }
  ],
  "metadata": {
    "accelerator": "GPU",
    "colab": {
      "provenance": []
    },
    "interpreter": {
      "hash": "a683edd788238e5c64f9fa2e4bdd4387776bc5c6f4f0a84da0685f9a25e421d6"
    },
    "kernelspec": {
      "display_name": "Python 3",
      "language": "python",
      "name": "python3"
    },
    "language_info": {
      "codemirror_mode": {
        "name": "ipython",
        "version": 3
      },
      "file_extension": ".py",
      "mimetype": "text/x-python",
      "name": "python",
      "nbconvert_exporter": "python",
      "pygments_lexer": "ipython3",
      "version": "3.8.5"
    },
    "widgets": {
      "application/vnd.jupyter.widget-state+json": {
        "9e87c88bdd9242dc9625c423b4f32049": {
          "model_module": "@jupyter-widgets/controls",
          "model_name": "HBoxModel",
          "model_module_version": "1.5.0",
          "state": {
            "_dom_classes": [],
            "_model_module": "@jupyter-widgets/controls",
            "_model_module_version": "1.5.0",
            "_model_name": "HBoxModel",
            "_view_count": null,
            "_view_module": "@jupyter-widgets/controls",
            "_view_module_version": "1.5.0",
            "_view_name": "HBoxView",
            "box_style": "",
            "children": [
              "IPY_MODEL_623a88efe21d40a3a786ff1a8d4fcd77",
              "IPY_MODEL_e13ba33f70cc4ff29b15d5bb17156889",
              "IPY_MODEL_c7e71fb1db5149148a69428864f1618f"
            ],
            "layout": "IPY_MODEL_3c575317c28447a088eebeabcc5209b8"
          }
        },
        "623a88efe21d40a3a786ff1a8d4fcd77": {
          "model_module": "@jupyter-widgets/controls",
          "model_name": "HTMLModel",
          "model_module_version": "1.5.0",
          "state": {
            "_dom_classes": [],
            "_model_module": "@jupyter-widgets/controls",
            "_model_module_version": "1.5.0",
            "_model_name": "HTMLModel",
            "_view_count": null,
            "_view_module": "@jupyter-widgets/controls",
            "_view_module_version": "1.5.0",
            "_view_name": "HTMLView",
            "description": "",
            "description_tooltip": null,
            "layout": "IPY_MODEL_9de7dd6b989f42af9034b4a42664d1a0",
            "placeholder": "​",
            "style": "IPY_MODEL_058c02d097a240839cb7b5b5d6ac200f",
            "value": "Batches: 100%"
          }
        },
        "e13ba33f70cc4ff29b15d5bb17156889": {
          "model_module": "@jupyter-widgets/controls",
          "model_name": "FloatProgressModel",
          "model_module_version": "1.5.0",
          "state": {
            "_dom_classes": [],
            "_model_module": "@jupyter-widgets/controls",
            "_model_module_version": "1.5.0",
            "_model_name": "FloatProgressModel",
            "_view_count": null,
            "_view_module": "@jupyter-widgets/controls",
            "_view_module_version": "1.5.0",
            "_view_name": "ProgressView",
            "bar_style": "success",
            "description": "",
            "description_tooltip": null,
            "layout": "IPY_MODEL_40b973293d3a41169be15c199e259ffa",
            "max": 7,
            "min": 0,
            "orientation": "horizontal",
            "style": "IPY_MODEL_456f058f2a3f46aa9d3d99c8d08a0174",
            "value": 7
          }
        },
        "c7e71fb1db5149148a69428864f1618f": {
          "model_module": "@jupyter-widgets/controls",
          "model_name": "HTMLModel",
          "model_module_version": "1.5.0",
          "state": {
            "_dom_classes": [],
            "_model_module": "@jupyter-widgets/controls",
            "_model_module_version": "1.5.0",
            "_model_name": "HTMLModel",
            "_view_count": null,
            "_view_module": "@jupyter-widgets/controls",
            "_view_module_version": "1.5.0",
            "_view_name": "HTMLView",
            "description": "",
            "description_tooltip": null,
            "layout": "IPY_MODEL_7825af24aa024ff18db72a8a14655d43",
            "placeholder": "​",
            "style": "IPY_MODEL_1ad3793e25f442cf928b40313ad29fc8",
            "value": " 7/7 [00:05&lt;00:00,  1.91it/s]"
          }
        },
        "3c575317c28447a088eebeabcc5209b8": {
          "model_module": "@jupyter-widgets/base",
          "model_name": "LayoutModel",
          "model_module_version": "1.2.0",
          "state": {
            "_model_module": "@jupyter-widgets/base",
            "_model_module_version": "1.2.0",
            "_model_name": "LayoutModel",
            "_view_count": null,
            "_view_module": "@jupyter-widgets/base",
            "_view_module_version": "1.2.0",
            "_view_name": "LayoutView",
            "align_content": null,
            "align_items": null,
            "align_self": null,
            "border": null,
            "bottom": null,
            "display": null,
            "flex": null,
            "flex_flow": null,
            "grid_area": null,
            "grid_auto_columns": null,
            "grid_auto_flow": null,
            "grid_auto_rows": null,
            "grid_column": null,
            "grid_gap": null,
            "grid_row": null,
            "grid_template_areas": null,
            "grid_template_columns": null,
            "grid_template_rows": null,
            "height": null,
            "justify_content": null,
            "justify_items": null,
            "left": null,
            "margin": null,
            "max_height": null,
            "max_width": null,
            "min_height": null,
            "min_width": null,
            "object_fit": null,
            "object_position": null,
            "order": null,
            "overflow": null,
            "overflow_x": null,
            "overflow_y": null,
            "padding": null,
            "right": null,
            "top": null,
            "visibility": null,
            "width": null
          }
        },
        "9de7dd6b989f42af9034b4a42664d1a0": {
          "model_module": "@jupyter-widgets/base",
          "model_name": "LayoutModel",
          "model_module_version": "1.2.0",
          "state": {
            "_model_module": "@jupyter-widgets/base",
            "_model_module_version": "1.2.0",
            "_model_name": "LayoutModel",
            "_view_count": null,
            "_view_module": "@jupyter-widgets/base",
            "_view_module_version": "1.2.0",
            "_view_name": "LayoutView",
            "align_content": null,
            "align_items": null,
            "align_self": null,
            "border": null,
            "bottom": null,
            "display": null,
            "flex": null,
            "flex_flow": null,
            "grid_area": null,
            "grid_auto_columns": null,
            "grid_auto_flow": null,
            "grid_auto_rows": null,
            "grid_column": null,
            "grid_gap": null,
            "grid_row": null,
            "grid_template_areas": null,
            "grid_template_columns": null,
            "grid_template_rows": null,
            "height": null,
            "justify_content": null,
            "justify_items": null,
            "left": null,
            "margin": null,
            "max_height": null,
            "max_width": null,
            "min_height": null,
            "min_width": null,
            "object_fit": null,
            "object_position": null,
            "order": null,
            "overflow": null,
            "overflow_x": null,
            "overflow_y": null,
            "padding": null,
            "right": null,
            "top": null,
            "visibility": null,
            "width": null
          }
        },
        "058c02d097a240839cb7b5b5d6ac200f": {
          "model_module": "@jupyter-widgets/controls",
          "model_name": "DescriptionStyleModel",
          "model_module_version": "1.5.0",
          "state": {
            "_model_module": "@jupyter-widgets/controls",
            "_model_module_version": "1.5.0",
            "_model_name": "DescriptionStyleModel",
            "_view_count": null,
            "_view_module": "@jupyter-widgets/base",
            "_view_module_version": "1.2.0",
            "_view_name": "StyleView",
            "description_width": ""
          }
        },
        "40b973293d3a41169be15c199e259ffa": {
          "model_module": "@jupyter-widgets/base",
          "model_name": "LayoutModel",
          "model_module_version": "1.2.0",
          "state": {
            "_model_module": "@jupyter-widgets/base",
            "_model_module_version": "1.2.0",
            "_model_name": "LayoutModel",
            "_view_count": null,
            "_view_module": "@jupyter-widgets/base",
            "_view_module_version": "1.2.0",
            "_view_name": "LayoutView",
            "align_content": null,
            "align_items": null,
            "align_self": null,
            "border": null,
            "bottom": null,
            "display": null,
            "flex": null,
            "flex_flow": null,
            "grid_area": null,
            "grid_auto_columns": null,
            "grid_auto_flow": null,
            "grid_auto_rows": null,
            "grid_column": null,
            "grid_gap": null,
            "grid_row": null,
            "grid_template_areas": null,
            "grid_template_columns": null,
            "grid_template_rows": null,
            "height": null,
            "justify_content": null,
            "justify_items": null,
            "left": null,
            "margin": null,
            "max_height": null,
            "max_width": null,
            "min_height": null,
            "min_width": null,
            "object_fit": null,
            "object_position": null,
            "order": null,
            "overflow": null,
            "overflow_x": null,
            "overflow_y": null,
            "padding": null,
            "right": null,
            "top": null,
            "visibility": null,
            "width": null
          }
        },
        "456f058f2a3f46aa9d3d99c8d08a0174": {
          "model_module": "@jupyter-widgets/controls",
          "model_name": "ProgressStyleModel",
          "model_module_version": "1.5.0",
          "state": {
            "_model_module": "@jupyter-widgets/controls",
            "_model_module_version": "1.5.0",
            "_model_name": "ProgressStyleModel",
            "_view_count": null,
            "_view_module": "@jupyter-widgets/base",
            "_view_module_version": "1.2.0",
            "_view_name": "StyleView",
            "bar_color": null,
            "description_width": ""
          }
        },
        "7825af24aa024ff18db72a8a14655d43": {
          "model_module": "@jupyter-widgets/base",
          "model_name": "LayoutModel",
          "model_module_version": "1.2.0",
          "state": {
            "_model_module": "@jupyter-widgets/base",
            "_model_module_version": "1.2.0",
            "_model_name": "LayoutModel",
            "_view_count": null,
            "_view_module": "@jupyter-widgets/base",
            "_view_module_version": "1.2.0",
            "_view_name": "LayoutView",
            "align_content": null,
            "align_items": null,
            "align_self": null,
            "border": null,
            "bottom": null,
            "display": null,
            "flex": null,
            "flex_flow": null,
            "grid_area": null,
            "grid_auto_columns": null,
            "grid_auto_flow": null,
            "grid_auto_rows": null,
            "grid_column": null,
            "grid_gap": null,
            "grid_row": null,
            "grid_template_areas": null,
            "grid_template_columns": null,
            "grid_template_rows": null,
            "height": null,
            "justify_content": null,
            "justify_items": null,
            "left": null,
            "margin": null,
            "max_height": null,
            "max_width": null,
            "min_height": null,
            "min_width": null,
            "object_fit": null,
            "object_position": null,
            "order": null,
            "overflow": null,
            "overflow_x": null,
            "overflow_y": null,
            "padding": null,
            "right": null,
            "top": null,
            "visibility": null,
            "width": null
          }
        },
        "1ad3793e25f442cf928b40313ad29fc8": {
          "model_module": "@jupyter-widgets/controls",
          "model_name": "DescriptionStyleModel",
          "model_module_version": "1.5.0",
          "state": {
            "_model_module": "@jupyter-widgets/controls",
            "_model_module_version": "1.5.0",
            "_model_name": "DescriptionStyleModel",
            "_view_count": null,
            "_view_module": "@jupyter-widgets/base",
            "_view_module_version": "1.2.0",
            "_view_name": "StyleView",
            "description_width": ""
          }
        }
      }
    },
    "gpuClass": "standard"
  },
  "nbformat": 4,
  "nbformat_minor": 0
}